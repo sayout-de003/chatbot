{
 "cells": [
  {
   "cell_type": "code",
   "execution_count": null,
   "id": "d30961ea",
   "metadata": {
    "vscode": {
     "languageId": "plaintext"
    }
   },
   "outputs": [],
   "source": [
    "import requests\n",
    "\n",
    "# Upload file\n",
    "files = {'file': open(\"docs/sample.txt\", 'rb')}\n",
    "res = requests.post(\"http://localhost:8000/upload/\", files=files)\n",
    "print(res.json())\n",
    "\n",
    "# Ask a question\n",
    "query = \"What is the document about?\"\n",
    "res = requests.get(\"http://localhost:8000/ask/\", params={\"query\": query})\n",
    "print(res.json())\n"
   ]
  }
 ],
 "metadata": {
  "language_info": {
   "name": "python"
  }
 },
 "nbformat": 4,
 "nbformat_minor": 5
}
